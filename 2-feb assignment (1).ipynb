{
 "cells": [
  {
   "cell_type": "code",
   "execution_count": null,
   "id": "835a3731",
   "metadata": {},
   "outputs": [],
   "source": [
    "Q1. Explain with an example each when to use a for loop and a while loop."
   ]
  },
  {
   "cell_type": "code",
   "execution_count": null,
   "id": "7df1fa99",
   "metadata": {},
   "outputs": [],
   "source": [
    "FOR LOOP"
   ]
  },
  {
   "cell_type": "code",
   "execution_count": null,
   "id": "e443addc",
   "metadata": {},
   "outputs": [],
   "source": [
    "for loop is used when no of iteration is already known.\n",
    "For loop allows a programmer to execute a sequence of statements\n",
    "several times,it abbreviates the code which helps to manage \n",
    "loop variables.\n"
   ]
  },
  {
   "cell_type": "code",
   "execution_count": null,
   "id": "71a2fb21",
   "metadata": {},
   "outputs": [],
   "source": [
    "example:-"
   ]
  },
  {
   "cell_type": "code",
   "execution_count": 2,
   "id": "c5d4cea1",
   "metadata": {},
   "outputs": [],
   "source": [
    "l=[1,2,3,4,5,6,7,8,9]"
   ]
  },
  {
   "cell_type": "code",
   "execution_count": 3,
   "id": "5c9e8b2c",
   "metadata": {},
   "outputs": [
    {
     "name": "stdout",
     "output_type": "stream",
     "text": [
      "1\n",
      "2\n",
      "3\n",
      "4\n",
      "5\n",
      "6\n",
      "7\n",
      "8\n",
      "9\n"
     ]
    }
   ],
   "source": [
    "for a in l:\n",
    "    print(a)"
   ]
  },
  {
   "cell_type": "code",
   "execution_count": 4,
   "id": "7e14a4f2",
   "metadata": {},
   "outputs": [],
   "source": [
    "#using range function"
   ]
  },
  {
   "cell_type": "code",
   "execution_count": 5,
   "id": "a1655ded",
   "metadata": {},
   "outputs": [
    {
     "data": {
      "text/plain": [
       "9"
      ]
     },
     "execution_count": 5,
     "metadata": {},
     "output_type": "execute_result"
    }
   ],
   "source": [
    "len(l)"
   ]
  },
  {
   "cell_type": "code",
   "execution_count": 6,
   "id": "3927e71e",
   "metadata": {},
   "outputs": [
    {
     "data": {
      "text/plain": [
       "range(0, 9)"
      ]
     },
     "execution_count": 6,
     "metadata": {},
     "output_type": "execute_result"
    }
   ],
   "source": [
    "range(len(l))"
   ]
  },
  {
   "cell_type": "code",
   "execution_count": 7,
   "id": "c0860404",
   "metadata": {},
   "outputs": [
    {
     "data": {
      "text/plain": [
       "[0, 1, 2, 3, 4, 5, 6, 7, 8]"
      ]
     },
     "execution_count": 7,
     "metadata": {},
     "output_type": "execute_result"
    }
   ],
   "source": [
    "list(range(len(l)))"
   ]
  },
  {
   "cell_type": "code",
   "execution_count": 8,
   "id": "a00935ad",
   "metadata": {},
   "outputs": [
    {
     "name": "stdout",
     "output_type": "stream",
     "text": [
      "1\n",
      "2\n",
      "3\n",
      "4\n",
      "5\n",
      "6\n",
      "7\n",
      "8\n",
      "9\n"
     ]
    }
   ],
   "source": [
    "for a in range(1,len(l)+1):\n",
    "    print(a)"
   ]
  },
  {
   "cell_type": "code",
   "execution_count": 9,
   "id": "d289931c",
   "metadata": {},
   "outputs": [],
   "source": [
    "#using for else"
   ]
  },
  {
   "cell_type": "code",
   "execution_count": 10,
   "id": "f8f720a0",
   "metadata": {},
   "outputs": [
    {
     "name": "stdout",
     "output_type": "stream",
     "text": [
      "1\n",
      "2\n",
      "3\n",
      "4\n"
     ]
    }
   ],
   "source": [
    "for a in range(1,len(l)+1):\n",
    "    if a == 5:\n",
    "        break\n",
    "    print(a)\n",
    "else:\n",
    "    print(\"do something\")"
   ]
  },
  {
   "cell_type": "code",
   "execution_count": 11,
   "id": "de9277b8",
   "metadata": {},
   "outputs": [
    {
     "name": "stdout",
     "output_type": "stream",
     "text": [
      "1\n",
      "2\n",
      "4\n",
      "5\n",
      "6\n",
      "7\n",
      "8\n",
      "9\n",
      "do something\n"
     ]
    }
   ],
   "source": [
    "for a in range(1,len(l)+1):\n",
    "    if a == 3:\n",
    "        continue\n",
    "    print(a)\n",
    "else:\n",
    "    print(\"do something\")"
   ]
  },
  {
   "cell_type": "code",
   "execution_count": null,
   "id": "b7b1e032",
   "metadata": {},
   "outputs": [],
   "source": [
    "WHILE LOOP"
   ]
  },
  {
   "cell_type": "code",
   "execution_count": null,
   "id": "9733a4c8",
   "metadata": {},
   "outputs": [],
   "source": [
    "While loop allows a programmer to repeat,\n",
    "a single statement or a group of statements for the TRUE condition.\n",
    "It verifies the condition before executing the loop."
   ]
  },
  {
   "cell_type": "code",
   "execution_count": null,
   "id": "a0d9393a",
   "metadata": {},
   "outputs": [],
   "source": [
    "#example"
   ]
  },
  {
   "cell_type": "code",
   "execution_count": 12,
   "id": "32dc806a",
   "metadata": {},
   "outputs": [
    {
     "name": "stdout",
     "output_type": "stream",
     "text": [
      "Enter no of digit which you want too add:10\n"
     ]
    },
    {
     "data": {
      "text/plain": [
       "55"
      ]
     },
     "execution_count": 12,
     "metadata": {},
     "output_type": "execute_result"
    }
   ],
   "source": [
    "number=int(input(\"Enter no of digit which you want too add:\"))\n",
    "starting_point=0\n",
    "counter=1\n",
    "while counter<=number:\n",
    "    starting_point=starting_point+counter\n",
    "    counter=counter+1\n",
    "starting_point"
   ]
  },
  {
   "cell_type": "code",
   "execution_count": 14,
   "id": "3762eb8d",
   "metadata": {},
   "outputs": [],
   "source": [
    "using while else"
   ]
  },
  {
   "cell_type": "code",
   "execution_count": 33,
   "id": "bd3eb42c",
   "metadata": {},
   "outputs": [
    {
     "name": "stdout",
     "output_type": "stream",
     "text": [
      "enter a number:5\n"
     ]
    },
    {
     "data": {
      "text/plain": [
       "120"
      ]
     },
     "execution_count": 33,
     "metadata": {},
     "output_type": "execute_result"
    }
   ],
   "source": [
    "number=int(input(\"enter a number:\"))\n",
    "factorial=1\n",
    "while number>0:\n",
    "    factorial=factorial*number\n",
    "    number=number-1\n",
    "factorial"
   ]
  },
  {
   "cell_type": "code",
   "execution_count": null,
   "id": "059b447f",
   "metadata": {},
   "outputs": [],
   "source": [
    "Q2. Write a python program to print the sum and\n",
    "product of the first 10 natural numbers using for\n",
    "and while loop."
   ]
  },
  {
   "cell_type": "code",
   "execution_count": null,
   "id": "b5851a9f",
   "metadata": {},
   "outputs": [],
   "source": [
    "using for loop"
   ]
  },
  {
   "cell_type": "code",
   "execution_count": 34,
   "id": "98f3c621",
   "metadata": {},
   "outputs": [
    {
     "data": {
      "text/plain": [
       "55"
      ]
     },
     "execution_count": 34,
     "metadata": {},
     "output_type": "execute_result"
    }
   ],
   "source": [
    "n=[1,2,3,4,5,6,7,8,9,10]\n",
    "sum=0\n",
    "for a in n:\n",
    "    sum=sum+a\n",
    "sum\n",
    "    "
   ]
  },
  {
   "cell_type": "code",
   "execution_count": null,
   "id": "87a7e57c",
   "metadata": {},
   "outputs": [],
   "source": [
    "using for loop"
   ]
  },
  {
   "cell_type": "code",
   "execution_count": 39,
   "id": "a9fe4596",
   "metadata": {},
   "outputs": [
    {
     "name": "stdout",
     "output_type": "stream",
     "text": [
      "Enter s natural number:10\n",
      "10\n",
      "9\n",
      "8\n",
      "7\n",
      "6\n",
      "5\n",
      "4\n",
      "3\n",
      "2\n",
      "1\n",
      "55\n"
     ]
    }
   ],
   "source": [
    "n=int(input(\"Enter s natural number:\"))\n",
    "sum=0\n",
    "while n>0:\n",
    "    sum=sum+n\n",
    "    print(n)\n",
    "    n=n-1\n",
    "    \n",
    "print(sum)"
   ]
  },
  {
   "cell_type": "code",
   "execution_count": null,
   "id": "0afb4685",
   "metadata": {},
   "outputs": [],
   "source": [
    "Q3. Create a pp to compute the electricity bill for a household.\n",
    "The per-unit charges in rupees are as follows:\n",
    "For the first 100 units,the user will be charged Rs. 4.5 per unit,\n",
    "for the next 100 units, the user will be charged Rs. 6 per unit,\n",
    "and for the next 100 units, the user will be charged Rs. 10 per unit, \n",
    "After 300 units and above the user will be charged Rs. 20 per unit.\n",
    "\n",
    "You are required to take the units of electricity consumed \n",
    "in a month from the user as input.\n",
    "\n",
    "Your program must pass this test case:\n",
    "when the unit of electricity consumed by the user in a month is\n",
    "310, the total electricity bill should be 2250."
   ]
  },
  {
   "cell_type": "code",
   "execution_count": 7,
   "id": "c1c54820",
   "metadata": {},
   "outputs": [
    {
     "name": "stdout",
     "output_type": "stream",
     "text": [
      "The units of electricity consumed in a month:310\n",
      "the user will be charged Rs. 20 per unit: 2250.0\n"
     ]
    }
   ],
   "source": [
    "unit=int(input(\"The units of electricity consumed in a month:\"))\n",
    "if unit<=100:\n",
    "    print('the user will be charged Rs. 4.5 per unit',unit*4.5)\n",
    "elif  unit<=200:\n",
    "    print(' the user will be charged Rs. 6 per unit:',(100*4.5)+(unit-100)*6)\n",
    "elif unit<=300:\n",
    "    print('the user will be charged Rs. 10 per unit:',(100*4.5)+(100*6)+(unit-200)*10)\n",
    "else:\n",
    "    print('the user will be charged Rs. 20 per unit:',(100*4.5)+(100*6)+(100*10)+(unit-300)*20)\n",
    "               \n",
    "               "
   ]
  },
  {
   "cell_type": "code",
   "execution_count": null,
   "id": "5f9aae5d",
   "metadata": {},
   "outputs": [],
   "source": [
    "Q4. Create a list of numbers from 1 to 100.\n",
    "Use for loop and while loop to calculate the cube of eachnumber \n",
    "and if the cube of that number is divisible by 4 or 5, \n",
    "then append that number in a list and print that list."
   ]
  },
  {
   "cell_type": "code",
   "execution_count": 58,
   "id": "0678f553",
   "metadata": {},
   "outputs": [],
   "source": [
    "#USING FOR LOOP"
   ]
  },
  {
   "cell_type": "code",
   "execution_count": 69,
   "id": "8750ecfc",
   "metadata": {},
   "outputs": [],
   "source": [
    "l_cube=[]\n",
    "for a in range(1,101,1):\n",
    "    cube=(a*a*a)\n",
    "    if cube%4==0 or cube%5==0:\n",
    "        l_cube.append(cube)\n",
    "        \n",
    "    "
   ]
  },
  {
   "cell_type": "code",
   "execution_count": 70,
   "id": "74734da2",
   "metadata": {},
   "outputs": [
    {
     "data": {
      "text/plain": [
       "[8,\n",
       " 64,\n",
       " 125,\n",
       " 216,\n",
       " 512,\n",
       " 1000,\n",
       " 1728,\n",
       " 2744,\n",
       " 3375,\n",
       " 4096,\n",
       " 5832,\n",
       " 8000,\n",
       " 10648,\n",
       " 13824,\n",
       " 15625,\n",
       " 17576,\n",
       " 21952,\n",
       " 27000,\n",
       " 32768,\n",
       " 39304,\n",
       " 42875,\n",
       " 46656,\n",
       " 54872,\n",
       " 64000,\n",
       " 74088,\n",
       " 85184,\n",
       " 91125,\n",
       " 97336,\n",
       " 110592,\n",
       " 125000,\n",
       " 140608,\n",
       " 157464,\n",
       " 166375,\n",
       " 175616,\n",
       " 195112,\n",
       " 216000,\n",
       " 238328,\n",
       " 262144,\n",
       " 274625,\n",
       " 287496,\n",
       " 314432,\n",
       " 343000,\n",
       " 373248,\n",
       " 405224,\n",
       " 421875,\n",
       " 438976,\n",
       " 474552,\n",
       " 512000,\n",
       " 551368,\n",
       " 592704,\n",
       " 614125,\n",
       " 636056,\n",
       " 681472,\n",
       " 729000,\n",
       " 778688,\n",
       " 830584,\n",
       " 857375,\n",
       " 884736,\n",
       " 941192,\n",
       " 1000000]"
      ]
     },
     "execution_count": 70,
     "metadata": {},
     "output_type": "execute_result"
    }
   ],
   "source": [
    "l_cube"
   ]
  },
  {
   "cell_type": "code",
   "execution_count": 71,
   "id": "f389970f",
   "metadata": {},
   "outputs": [],
   "source": [
    "#USING WHILE LOOP"
   ]
  },
  {
   "cell_type": "code",
   "execution_count": 80,
   "id": "9e780330",
   "metadata": {},
   "outputs": [],
   "source": [
    "l_cube2=[]\n",
    "starting_point=0\n",
    "counter=1\n",
    "while counter<=100:\n",
    "    cube=counter*counter*counter\n",
    "    if cube%4 ==0 or cube%5 ==0:\n",
    "        l_cube2.append(cube)\n",
    "    counter=counter+1\n",
    "    \n"
   ]
  },
  {
   "cell_type": "code",
   "execution_count": 82,
   "id": "15544372",
   "metadata": {
    "scrolled": true
   },
   "outputs": [
    {
     "data": {
      "text/plain": [
       "[8,\n",
       " 64,\n",
       " 125,\n",
       " 216,\n",
       " 512,\n",
       " 1000,\n",
       " 1728,\n",
       " 2744,\n",
       " 3375,\n",
       " 4096,\n",
       " 5832,\n",
       " 8000,\n",
       " 10648,\n",
       " 13824,\n",
       " 15625,\n",
       " 17576,\n",
       " 21952,\n",
       " 27000,\n",
       " 32768,\n",
       " 39304,\n",
       " 42875,\n",
       " 46656,\n",
       " 54872,\n",
       " 64000,\n",
       " 74088,\n",
       " 85184,\n",
       " 91125,\n",
       " 97336,\n",
       " 110592,\n",
       " 125000,\n",
       " 140608,\n",
       " 157464,\n",
       " 166375,\n",
       " 175616,\n",
       " 195112,\n",
       " 216000,\n",
       " 238328,\n",
       " 262144,\n",
       " 274625,\n",
       " 287496,\n",
       " 314432,\n",
       " 343000,\n",
       " 373248,\n",
       " 405224,\n",
       " 421875,\n",
       " 438976,\n",
       " 474552,\n",
       " 512000,\n",
       " 551368,\n",
       " 592704,\n",
       " 614125,\n",
       " 636056,\n",
       " 681472,\n",
       " 729000,\n",
       " 778688,\n",
       " 830584,\n",
       " 857375,\n",
       " 884736,\n",
       " 941192,\n",
       " 1000000]"
      ]
     },
     "execution_count": 82,
     "metadata": {},
     "output_type": "execute_result"
    }
   ],
   "source": [
    "l_cube2"
   ]
  },
  {
   "cell_type": "code",
   "execution_count": null,
   "id": "962d8834",
   "metadata": {},
   "outputs": [],
   "source": [
    "Q5. Write a program to filter count vowels in the below-given string.\n",
    "string = \"I want to become a data scientist\""
   ]
  },
  {
   "cell_type": "code",
   "execution_count": 109,
   "id": "bf527815",
   "metadata": {},
   "outputs": [
    {
     "name": "stdout",
     "output_type": "stream",
     "text": [
      "number of variable 12\n"
     ]
    }
   ],
   "source": [
    "string = \"I  want to become a data scientist\"\n",
    "count=1\n",
    "for v in string:\n",
    "    if v=='a' or v=='e' or v=='i' or v=='o' or v=='u':\n",
    "        count=count+1\n",
    "        \n",
    "print(\"number of variable:\",count)"
   ]
  },
  {
   "cell_type": "code",
   "execution_count": null,
   "id": "3c94d216",
   "metadata": {},
   "outputs": [],
   "source": []
  }
 ],
 "metadata": {
  "kernelspec": {
   "display_name": "Python 3 (ipykernel)",
   "language": "python",
   "name": "python3"
  },
  "language_info": {
   "codemirror_mode": {
    "name": "ipython",
    "version": 3
   },
   "file_extension": ".py",
   "mimetype": "text/x-python",
   "name": "python",
   "nbconvert_exporter": "python",
   "pygments_lexer": "ipython3",
   "version": "3.9.12"
  }
 },
 "nbformat": 4,
 "nbformat_minor": 5
}
